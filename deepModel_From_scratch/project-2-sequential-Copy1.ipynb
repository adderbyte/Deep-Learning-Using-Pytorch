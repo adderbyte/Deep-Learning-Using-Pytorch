{
 "cells": [
  {
   "cell_type": "code",
   "execution_count": 32,
   "metadata": {},
   "outputs": [],
   "source": [
    "import torch\n",
    "#from torch.autograd import Variable\n",
    "#from torch import nn\n",
    "#from torch.nn import functional as F\n",
    "import numpy as np\n",
    "import math\n",
    "import dlc_practical_prologue as prologue"
   ]
  },
  {
   "cell_type": "code",
   "execution_count": 34,
   "metadata": {},
   "outputs": [
    {
     "name": "stdout",
     "output_type": "stream",
     "text": [
      "[0.0, 0.0, 0.0, 0.0, 0.0, 0.0, 0.0, 0.0, 0.0, 0.0, 0.0, 0.0, 0.0, 0.0, 0.0, 0.0, 0.0, 0.0, 0.0]\n",
      "[0.0, array([5, 4]), 7, 0.0, 0.0, 0.0, 0.0, 0.0, 0.0, 0.0, 0.0, 0.0, 0.0, 0.0, 0.0, 0.0, 0.0, 0.0, 0.0]\n"
     ]
    }
   ],
   "source": [
    "t=list(np.zeros(18+1))\n",
    "print(t)\n",
    "t[1]=np.array([5,4])\n",
    "t[2]=7\n",
    "t[1]\n",
    "print(t)\n",
    "#r = torch.tanh(b1)\n"
   ]
  },
  {
   "cell_type": "code",
   "execution_count": 35,
   "metadata": {},
   "outputs": [
    {
     "name": "stdout",
     "output_type": "stream",
     "text": [
      "4\n",
      "3\n",
      "2\n",
      "1\n"
     ]
    }
   ],
   "source": [
    "for i in range (4,0,-1):\n",
    "    print(i)"
   ]
  },
  {
   "cell_type": "code",
   "execution_count": null,
   "metadata": {},
   "outputs": [],
   "source": []
  },
  {
   "cell_type": "code",
   "execution_count": 36,
   "metadata": {},
   "outputs": [],
   "source": [
    "class linear():\n",
    "    def __init__(self,start_layer_size,end_layer_size):\n",
    "        assert type(start_layer_size)== int \n",
    "        assert type(end_layer_size) == int\n",
    "        if (start_layer_size > 0 and end_layer_size > 0):\n",
    "            \n",
    "            self.m = start_layer_size\n",
    "            self.n = end_layer_size\n",
    "            self.w = torch.Tensor(self.m,self.n).normal_()\n",
    "            self.b = torch.Tensor(self.m,1).normal_()\n",
    "        else :\n",
    "            raise \"error\"\n",
    "        \n",
    "    def forward(self, x):\n",
    "        #print('linear forward called')\n",
    "        return torch.mm(self.w , x)+self.b\n",
    "    \n",
    "    def backward(self,x):\n",
    "        print(\"backward_linear called\")\n",
    "        return x,self.w\n",
    "    \n",
    "        "
   ]
  },
  {
   "cell_type": "code",
   "execution_count": null,
   "metadata": {},
   "outputs": [],
   "source": []
  },
  {
   "cell_type": "code",
   "execution_count": 37,
   "metadata": {},
   "outputs": [],
   "source": [
    "class Relu():\n",
    "     \n",
    "    def forward(self,x):\n",
    "        y = torch.zeros_like(x)\n",
    "        return torch.max(x,y)\n",
    "    \n",
    "    def backward(self,x):\n",
    "        u=x.clone()\n",
    "        u[u>0]=1\n",
    "        u[u<0]=0\n",
    "        return u\n"
   ]
  },
  {
   "cell_type": "code",
   "execution_count": 38,
   "metadata": {},
   "outputs": [],
   "source": [
    "class Tanh():\n",
    "     \n",
    "    def forward(self,x):\n",
    "        return torch.tanh(x)\n",
    "       \n",
    "    \n",
    "    def backward(self,x):\n",
    "        return torch.ones_like(x)-torch.tanh(x)*torch.tanh(x)\n"
   ]
  },
  {
   "cell_type": "code",
   "execution_count": 39,
   "metadata": {},
   "outputs": [],
   "source": [
    "class Identity():\n",
    "    \n",
    "    def forward(self,x):\n",
    "        return x\n",
    "    \n",
    "    def backward(self,x):\n",
    "        return torch.ones_like(x)"
   ]
  },
  {
   "cell_type": "code",
   "execution_count": 40,
   "metadata": {},
   "outputs": [],
   "source": [
    "f=Identity()"
   ]
  },
  {
   "cell_type": "code",
   "execution_count": 41,
   "metadata": {},
   "outputs": [
    {
     "name": "stdout",
     "output_type": "stream",
     "text": [
      "\n",
      " 2  2\n",
      " 2  2\n",
      " 2  2\n",
      "[torch.FloatTensor of size 3x2]\n",
      "\n"
     ]
    }
   ],
   "source": [
    "\n",
    "p = torch.zeros(3,2)+2\n",
    "print(p)"
   ]
  },
  {
   "cell_type": "code",
   "execution_count": 42,
   "metadata": {},
   "outputs": [
    {
     "name": "stdout",
     "output_type": "stream",
     "text": [
      "\n",
      " 2  2\n",
      " 2  2\n",
      " 2  2\n",
      "[torch.FloatTensor of size 3x2]\n",
      "\n"
     ]
    }
   ],
   "source": [
    "der2 = f.forward(p)\n",
    "print(der2)"
   ]
  },
  {
   "cell_type": "code",
   "execution_count": 44,
   "metadata": {},
   "outputs": [],
   "source": [
    "#f.forward(p)\n",
    "#f.backward(p)"
   ]
  },
  {
   "cell_type": "code",
   "execution_count": 45,
   "metadata": {},
   "outputs": [
    {
     "data": {
      "text/plain": [
       "\n",
       " 1  1\n",
       " 1  1\n",
       " 1  1\n",
       "[torch.FloatTensor of size 3x2]"
      ]
     },
     "execution_count": 45,
     "metadata": {},
     "output_type": "execute_result"
    }
   ],
   "source": [
    "\n",
    "y = p.clone()\n",
    "\n",
    "p[p>0]=1\n",
    "p[p<0]=0\n",
    "p"
   ]
  },
  {
   "cell_type": "code",
   "execution_count": 46,
   "metadata": {},
   "outputs": [],
   "source": [
    "# class function():\n",
    "    \n",
    "#     def __init__(self):\n",
    "#         self.type1 = np.maximum\n",
    "#         self.type2 = torch.tanh\n",
    "#         #self.flag = flag\n",
    "    \n",
    "\n",
    "        \n",
    "#     def Relu(self,a):\n",
    "#         return self.type1(a,0)\n",
    "        \n",
    "    \n",
    "#     def Tanh(self,b):\n",
    "#         return  self.type2(b)\n",
    "    \n",
    "#     def Identity(self,c):\n",
    "        \n",
    "            \n",
    "            "
   ]
  },
  {
   "cell_type": "code",
   "execution_count": 48,
   "metadata": {},
   "outputs": [],
   "source": [
    "#type(np.maximum(a,0))"
   ]
  },
  {
   "cell_type": "code",
   "execution_count": 49,
   "metadata": {},
   "outputs": [],
   "source": [
    "def luk(*a):\n",
    "    print(type(a))\n",
    "    for i in a:\n",
    "        print (i)"
   ]
  },
  {
   "cell_type": "code",
   "execution_count": 50,
   "metadata": {},
   "outputs": [
    {
     "name": "stdout",
     "output_type": "stream",
     "text": [
      "<class 'tuple'>\n",
      "1\n",
      "2\n",
      "43\n"
     ]
    }
   ],
   "source": [
    "luk(1,2,43)"
   ]
  },
  {
   "cell_type": "code",
   "execution_count": null,
   "metadata": {},
   "outputs": [],
   "source": []
  },
  {
   "cell_type": "code",
   "execution_count": null,
   "metadata": {},
   "outputs": [],
   "source": []
  },
  {
   "cell_type": "code",
   "execution_count": null,
   "metadata": {},
   "outputs": [],
   "source": []
  },
  {
   "cell_type": "code",
   "execution_count": null,
   "metadata": {},
   "outputs": [],
   "source": []
  },
  {
   "cell_type": "code",
   "execution_count": null,
   "metadata": {},
   "outputs": [],
   "source": []
  },
  {
   "cell_type": "code",
   "execution_count": 52,
   "metadata": {
    "scrolled": true
   },
   "outputs": [],
   "source": [
    "#model = linear(2,4)\n",
    "#F.Relu(model.b)"
   ]
  },
  {
   "cell_type": "code",
   "execution_count": null,
   "metadata": {},
   "outputs": [],
   "source": []
  },
  {
   "cell_type": "code",
   "execution_count": 53,
   "metadata": {},
   "outputs": [],
   "source": [
    " def __structrize__(activations):\n",
    "        que=[]\n",
    "        l=len(activations)\n",
    "        print(l)\n",
    "        for i in range(l):\n",
    "            que.append(activations[i])\n",
    "            if(i<l-1):\n",
    "                if(type(activations[i]).__name__=='linear' and type(activations[i+1]).__name__=='linear'):\n",
    "                    que.append(Identity())\n",
    "        \n",
    "        if (type(activations[-1]).__name__=='linear'):\n",
    "            que.append(Identity())\n",
    "        \n",
    "        return que"
   ]
  },
  {
   "cell_type": "code",
   "execution_count": 54,
   "metadata": {},
   "outputs": [],
   "source": [
    "class sequential(): #list of operation\n",
    "    def __init__(self,*operations):\n",
    "        self.l = len(operations)\n",
    "        self.result = []\n",
    "        self.initial_operations = operations\n",
    "        self.operations = __structrize__(self.initial_operations )\n",
    "#         linear.__init__(self,in_node,out_node)\n",
    "#         function.__init__(self)\n",
    "        self.delta =[] # dl_ds\n",
    "        self.forward_flag=False\n",
    "#         self.w =[]\n",
    "#         self.w.append(0)\n",
    "#         self.w.append(weight)\n",
    "#         self.b=bias\n",
    "#         self.l = int(num_layers)\n",
    "#         self.s = list(np.zeros(self.l + 1) ) # first element remain 0  each time\n",
    "#         self.x = list(np.zeros(self.l + 1) )\n",
    "#         #derivatives\n",
    "#         self.dl_dx = list(np.zeros(self.l+1) ) # first element remain 0  each time\n",
    "          \n",
    "        self.dl_dw = []\n",
    "        self.dl_db = [] \n",
    "        \n",
    "    '''\n",
    "    def structrize(self,activations):\n",
    "        que=[]\n",
    "        l=len(activations)\n",
    "        print(l)\n",
    "        for i in range(l):\n",
    "            que.append(activations[i])\n",
    "            if(i<l-1):\n",
    "                if(type(activations[i]).__name__=='linear' and type(activations[i+1]).__name__=='linear'):\n",
    "                    que.append(Identity())\n",
    "        \n",
    "        if (type(activations[-1]).__name__=='linear'):\n",
    "            que.append(Identity())\n",
    "        \n",
    "        return que\n",
    "\n",
    "    self.operations= structrize(self.initial_operations)\n",
    "    '''\n",
    "    def sigma(self , inp):\n",
    "        return torch.tanh(inp)\n",
    "    def dsigma(x):\n",
    "        \n",
    "        return 1 - torch.mul(torch.tanh(x),torch.tanh(x))\n",
    "    \n",
    "    def loss(self ,output,target):\n",
    "        return torch.sum(torch.pow(output-target,2))\n",
    "    \n",
    "    \n",
    "    def dloss(output,target): # dloss is derivative of loss\n",
    "    #print(\"dloss_shape(v-t) = \",v.shape , \"-\",t.shape)\n",
    "        return 2*(output-target)\n",
    "    \n",
    "    def forward(self,x):\n",
    "        self.forward_flag=True\n",
    "        self.result.append(x)\n",
    "        for op in self.operations:\n",
    "            self.result.append(op.forward(self.result[-1]))\n",
    "            #print('sequential forward called ,result[i]:',self.result[-1])\n",
    "        return self.result   \n",
    "        \n",
    "    def backward_pass(self,target):\n",
    "        \n",
    "        if(self.forward_flag==False):\n",
    "            raise ValueError(\"forward hasn't been called.\")\n",
    "        self.delta.append(-2*(target-self.result[-1]))\n",
    "        \n",
    "        print(\"result\",len(self.result))\n",
    "        \n",
    "        \n",
    "        for i in range (self.l,0,-1): # calculating deltas\n",
    "            #print(\"i = \",i)\n",
    "            #print(\"delta length\",len(self.delta))\n",
    "            \n",
    "            #print('delta = ',self.delta[-1])\n",
    "            #print('current op= ',self.operations[i-1])\n",
    "            self.delta.append(torch.mm(self.delta[-1],self.operations[i-1].backward(self.result[i-1])[1])) # [1] is to select w not x from linear_backward()\n",
    "       \n",
    "        self.delta.reverse()\n",
    "        for i in range (self.l,0,-1): #calculating dl_dw's \n",
    "            print(\"i = \",i,\"-------------------------------------------------------------------------\")\n",
    "            print(\"x_(l-1).shape\" , self.result[i-1].shape)\n",
    "            print(\"delta[\",i,\"]\",self.delta[i].shape)\n",
    "            #self.dl_dw.append(torch.mm(self.delta[i],torch.t(self.result[i-1])))\n",
    "            self.dl_dw.append(torch.mm(self.result[i-1],self.delta[i]))\n",
    "        \n",
    "        self.dl_dw.reverse()\n",
    "    \n",
    "        self.dl_db=self.delta\n",
    "        return self.delta, self.dl_dw, self.dl_db\n",
    "            \n",
    "            \n",
    "#         self.dl_dx[self.l] = dloss(self.x[self.l] , target)\n",
    "#         self.dl_ds[self.l] = torch.mul(dl_dx[self.l],dsigma(s[self.l]) )\n",
    "        \n",
    "#         torch.mul( dl_dx2 , dsigma(s2) )\n",
    "        \n",
    "#         for i in range(self.l-1,0,-1):  # it goes from l-1 to 1\n",
    "        \n",
    "#             #print(\"dl_dx2-->size = \" , (dloss(x2,t)).shape)\n",
    "#             #print('x2--->size' ,  x2.shape )\n",
    "#             #print('x2 = ' ,x2)\n",
    "#             dl_dx[i] = dloss(x[-1],t)\n",
    "    \n",
    "\n",
    "    \n",
    "#             #print(\"dl_dx1-->size = \" , (w2.t()).shape,' * ',dl_ds2.shape)\n",
    "#             dl_dx[i] = torch.mm(w[i+1].t(),dl_ds[i+1])\n",
    "    \n",
    "#             #print(\"dl_ds1-->size = \" , dl_dx1.shape,' .* ',dsigma(s1).shape)\n",
    "#             dl_ds[i] = torch.mul(dl_dx[i] ,dsigma(s[i]) )\n",
    "    \n",
    "#             #print(\"dl_dw1-->size = \" , dl_ds1.view(-1,1).shape,' * ',(x0.view(1,-1).shape))\n",
    "                #self.result.append(op.forward(self.result[-1]))\n",
    "            \n",
    "    \n",
    "    \n",
    "    \n",
    "    \n",
    "#             dl_dw[i] = torch.mm(dl_ds1.view(-1,1),x0.view(1,-1))\n",
    "#             dl_dw2 = dl_ds2.view(-1,1).mm(x1.view(1,-1))\n",
    "    \n",
    "    \n",
    "#             dl_db1=dl_ds1;\n",
    "#             dl_db2=dl_ds2;\n",
    "    \n",
    "#             #print(dl_dw1.shape,dl_dw2.shape,dl_db1.shape,dl_db2.shape)\n",
    "#             #print(\"(dl_dw1,dl_dw2,dl_db1,dl_db2)\")\n",
    "#         return self.dl_dw,self.dl_db"
   ]
  },
  {
   "cell_type": "code",
   "execution_count": 55,
   "metadata": {},
   "outputs": [
    {
     "name": "stdout",
     "output_type": "stream",
     "text": [
      "3\n",
      "q [\n",
      " 0\n",
      " 0\n",
      "[torch.FloatTensor of size 2x1]\n",
      ", \n",
      "-1.1645\n",
      "-0.3114\n",
      "-1.0446\n",
      " 0.3701\n",
      " 0.2697\n",
      "[torch.FloatTensor of size 5x1]\n",
      ", \n",
      "-1.1645\n",
      "-0.3114\n",
      "-1.0446\n",
      " 0.3701\n",
      " 0.2697\n",
      "[torch.FloatTensor of size 5x1]\n",
      ", \n",
      " 0.7841\n",
      "-1.0401\n",
      "-2.0175\n",
      "[torch.FloatTensor of size 3x1]\n",
      ", \n",
      " 0.7841\n",
      "-1.0401\n",
      "-2.0175\n",
      "[torch.FloatTensor of size 3x1]\n",
      ", \n",
      " 2.0607\n",
      "[torch.FloatTensor of size 1x1]\n",
      ", \n",
      " 2.0607\n",
      "[torch.FloatTensor of size 1x1]\n",
      "]\n",
      "result 7\n",
      "backward_linear called\n"
     ]
    },
    {
     "ename": "RuntimeError",
     "evalue": "size mismatch, m1: [1 x 1], m2: [3 x 5] at /opt/conda/conda-bld/pytorch_1503970438496/work/torch/lib/TH/generic/THTensorMath.c:1293",
     "output_type": "error",
     "traceback": [
      "\u001b[0;31m---------------------------------------------------------------------------\u001b[0m",
      "\u001b[0;31mRuntimeError\u001b[0m                              Traceback (most recent call last)",
      "\u001b[0;32m<ipython-input-55-2d86572c6bce>\u001b[0m in \u001b[0;36m<module>\u001b[0;34m()\u001b[0m\n\u001b[1;32m      9\u001b[0m \u001b[0;31m#print(q[1])\u001b[0m\u001b[0;34m\u001b[0m\u001b[0;34m\u001b[0m\u001b[0m\n\u001b[1;32m     10\u001b[0m \u001b[0mprint\u001b[0m\u001b[0;34m(\u001b[0m\u001b[0;34m\"q\"\u001b[0m\u001b[0;34m,\u001b[0m\u001b[0mq\u001b[0m\u001b[0;34m)\u001b[0m\u001b[0;34m\u001b[0m\u001b[0m\n\u001b[0;32m---> 11\u001b[0;31m \u001b[0mb\u001b[0m \u001b[0;34m=\u001b[0m \u001b[0ma\u001b[0m\u001b[0;34m.\u001b[0m\u001b[0mbackward_pass\u001b[0m\u001b[0;34m(\u001b[0m\u001b[0;36m0\u001b[0m\u001b[0;34m)\u001b[0m\u001b[0;34m\u001b[0m\u001b[0m\n\u001b[0m\u001b[1;32m     12\u001b[0m \u001b[0mb\u001b[0m\u001b[0;34m\u001b[0m\u001b[0m\n",
      "\u001b[0;32m<ipython-input-54-88e363d2599f>\u001b[0m in \u001b[0;36mbackward_pass\u001b[0;34m(self, target)\u001b[0m\n\u001b[1;32m     77\u001b[0m             \u001b[0;31m#print('delta = ',self.delta[-1])\u001b[0m\u001b[0;34m\u001b[0m\u001b[0;34m\u001b[0m\u001b[0m\n\u001b[1;32m     78\u001b[0m             \u001b[0;31m#print('current op= ',self.operations[i-1])\u001b[0m\u001b[0;34m\u001b[0m\u001b[0;34m\u001b[0m\u001b[0m\n\u001b[0;32m---> 79\u001b[0;31m             \u001b[0mself\u001b[0m\u001b[0;34m.\u001b[0m\u001b[0mdelta\u001b[0m\u001b[0;34m.\u001b[0m\u001b[0mappend\u001b[0m\u001b[0;34m(\u001b[0m\u001b[0mtorch\u001b[0m\u001b[0;34m.\u001b[0m\u001b[0mmm\u001b[0m\u001b[0;34m(\u001b[0m\u001b[0mself\u001b[0m\u001b[0;34m.\u001b[0m\u001b[0mdelta\u001b[0m\u001b[0;34m[\u001b[0m\u001b[0;34m-\u001b[0m\u001b[0;36m1\u001b[0m\u001b[0;34m]\u001b[0m\u001b[0;34m,\u001b[0m\u001b[0mself\u001b[0m\u001b[0;34m.\u001b[0m\u001b[0moperations\u001b[0m\u001b[0;34m[\u001b[0m\u001b[0mi\u001b[0m\u001b[0;34m-\u001b[0m\u001b[0;36m1\u001b[0m\u001b[0;34m]\u001b[0m\u001b[0;34m.\u001b[0m\u001b[0mbackward\u001b[0m\u001b[0;34m(\u001b[0m\u001b[0mself\u001b[0m\u001b[0;34m.\u001b[0m\u001b[0mresult\u001b[0m\u001b[0;34m[\u001b[0m\u001b[0mi\u001b[0m\u001b[0;34m-\u001b[0m\u001b[0;36m1\u001b[0m\u001b[0;34m]\u001b[0m\u001b[0;34m)\u001b[0m\u001b[0;34m[\u001b[0m\u001b[0;36m1\u001b[0m\u001b[0;34m]\u001b[0m\u001b[0;34m)\u001b[0m\u001b[0;34m)\u001b[0m \u001b[0;31m# [1] is to select w not x from linear_backward()\u001b[0m\u001b[0;34m\u001b[0m\u001b[0m\n\u001b[0m\u001b[1;32m     80\u001b[0m \u001b[0;34m\u001b[0m\u001b[0m\n\u001b[1;32m     81\u001b[0m         \u001b[0mself\u001b[0m\u001b[0;34m.\u001b[0m\u001b[0mdelta\u001b[0m\u001b[0;34m.\u001b[0m\u001b[0mreverse\u001b[0m\u001b[0;34m(\u001b[0m\u001b[0;34m)\u001b[0m\u001b[0;34m\u001b[0m\u001b[0m\n",
      "\u001b[0;31mRuntimeError\u001b[0m: size mismatch, m1: [1 x 1], m2: [3 x 5] at /opt/conda/conda-bld/pytorch_1503970438496/work/torch/lib/TH/generic/THTensorMath.c:1293"
     ]
    }
   ],
   "source": [
    "obj1 = linear(5,2)\n",
    "obj2 = linear(3,5)\n",
    "obj3 = linear(1,3)\n",
    "\n",
    "a = sequential(obj1,obj2,obj3)\n",
    "x = torch.zeros(2,1)\n",
    "q = a.forward(x)\n",
    "#print(len(q))# تییتیتت\n",
    "#print(q[1])\n",
    "print(\"q\",q)\n",
    "b = a.backward_pass(0)\n",
    "b"
   ]
  },
  {
   "cell_type": "code",
   "execution_count": 26,
   "metadata": {},
   "outputs": [
    {
     "data": {
      "text/plain": [
       "[\n",
       " -3.1857\n",
       " [torch.FloatTensor of size 1x1]]"
      ]
     },
     "execution_count": 26,
     "metadata": {},
     "output_type": "execute_result"
    }
   ],
   "source": [
    "a.delta"
   ]
  },
  {
   "cell_type": "code",
   "execution_count": 17,
   "metadata": {},
   "outputs": [
    {
     "ename": "NameError",
     "evalue": "name 'a' is not defined",
     "output_type": "error",
     "traceback": [
      "\u001b[0;31m---------------------------------------------------------------------------\u001b[0m",
      "\u001b[0;31mNameError\u001b[0m                                 Traceback (most recent call last)",
      "\u001b[0;32m<ipython-input-17-f01d678dca4e>\u001b[0m in \u001b[0;36m<module>\u001b[0;34m()\u001b[0m\n\u001b[1;32m      1\u001b[0m \u001b[0;31m#torch.mm(obj3.w,a.delta[-1])\u001b[0m\u001b[0;34m\u001b[0m\u001b[0;34m\u001b[0m\u001b[0m\n\u001b[0;32m----> 2\u001b[0;31m \u001b[0mprint\u001b[0m\u001b[0;34m(\u001b[0m\u001b[0;34m-\u001b[0m\u001b[0;36m2\u001b[0m\u001b[0;34m*\u001b[0m\u001b[0;34m(\u001b[0m\u001b[0;36m0\u001b[0m\u001b[0;34m-\u001b[0m\u001b[0ma\u001b[0m\u001b[0;34m.\u001b[0m\u001b[0mresult\u001b[0m\u001b[0;34m[\u001b[0m\u001b[0;34m-\u001b[0m\u001b[0;36m1\u001b[0m\u001b[0;34m]\u001b[0m\u001b[0;34m)\u001b[0m\u001b[0;34m)\u001b[0m\u001b[0;34m\u001b[0m\u001b[0m\n\u001b[0m\u001b[1;32m      3\u001b[0m \u001b[0mprint\u001b[0m\u001b[0;34m(\u001b[0m\u001b[0mtorch\u001b[0m\u001b[0;34m.\u001b[0m\u001b[0mmm\u001b[0m\u001b[0;34m(\u001b[0m\u001b[0ma\u001b[0m\u001b[0;34m.\u001b[0m\u001b[0mdelta\u001b[0m\u001b[0;34m[\u001b[0m\u001b[0;36m1\u001b[0m\u001b[0;34m]\u001b[0m\u001b[0;34m,\u001b[0m\u001b[0mobj1\u001b[0m\u001b[0;34m.\u001b[0m\u001b[0mw\u001b[0m\u001b[0;34m)\u001b[0m\u001b[0;34m)\u001b[0m\u001b[0;34m\u001b[0m\u001b[0m\n",
      "\u001b[0;31mNameError\u001b[0m: name 'a' is not defined"
     ]
    }
   ],
   "source": [
    "#torch.mm(obj3.w,a.delta[-1])\n",
    "print(-2*(0-a.result[-1]))\n",
    "print(torch.mm(a.delta[1],obj1.w))"
   ]
  },
  {
   "cell_type": "code",
   "execution_count": 18,
   "metadata": {},
   "outputs": [
    {
     "ename": "NameError",
     "evalue": "name 'a' is not defined",
     "output_type": "error",
     "traceback": [
      "\u001b[0;31m---------------------------------------------------------------------------\u001b[0m",
      "\u001b[0;31mNameError\u001b[0m                                 Traceback (most recent call last)",
      "\u001b[0;32m<ipython-input-18-bba0c6f2b259>\u001b[0m in \u001b[0;36m<module>\u001b[0;34m()\u001b[0m\n\u001b[0;32m----> 1\u001b[0;31m \u001b[0ma\u001b[0m\u001b[0;34m.\u001b[0m\u001b[0mdl_dw\u001b[0m\u001b[0;34m\u001b[0m\u001b[0m\n\u001b[0m",
      "\u001b[0;31mNameError\u001b[0m: name 'a' is not defined"
     ]
    }
   ],
   "source": [
    "a.dl_dw"
   ]
  },
  {
   "cell_type": "code",
   "execution_count": null,
   "metadata": {},
   "outputs": [],
   "source": []
  },
  {
   "cell_type": "code",
   "execution_count": null,
   "metadata": {},
   "outputs": [],
   "source": []
  },
  {
   "cell_type": "code",
   "execution_count": 25,
   "metadata": {},
   "outputs": [],
   "source": [
    "# class sequential():\n",
    "#     def __init__(self,weight=[],bias=[],num_layers=0):\n",
    "#         self.w =[]\n",
    "#         self.w.append(0)\n",
    "#         self.w.append(weight)\n",
    "#         self.b=bias\n",
    "#         self.l = int(num_layers)\n",
    "#         self.s = list(np.zeros(self.l + 1) ) # first element remain 0  each time\n",
    "#         self.x = list(np.zeros(self.l + 1) )\n",
    "#         #derivatives\n",
    "#         self.dl_dx = list(np.zeros(self.l+1) ) # first element remain 0  each time\n",
    "#         self.dl_ds = list(np.zeros(self.l+1) ) # first element remain 0  each time\n",
    "#         self.dl_dw = list(np.zeros(self.l+1) ) # first element remain 0  each time\n",
    "#         self.dl_db = list(np.zeros(self.l+1) ) # first element remain 0  each time\n",
    "        \n",
    "#     def sigma(self , inp):\n",
    "#         return torch.tanh(inp)\n",
    "#     def dsigma(x):\n",
    "        \n",
    "#         return 1 - torch.mul(torch.tanh(x),torch.tanh(x))\n",
    "    \n",
    "#     def loss(self ,output,target):\n",
    "#         return torch.sum(torch.pow(output-target,2))\n",
    "    \n",
    "    \n",
    "#     def dloss(output,target): # dloss is derivative of loss\n",
    "#     #print(\"dloss_shape(v-t) = \",v.shape , \"-\",t.shape)\n",
    "#         return 2*(output-target)\n",
    "    \n",
    "#     def forward(self, inp):\n",
    "        \n",
    "#         self.x[0] = inp\n",
    "#         for i in range(1,self.l+1):\n",
    "            \n",
    "#             self.s[i] = torch.mm(self.w[i] , self.x[i-1])+self.b[i]\n",
    "#             self.x[i] = self.sigma(self.s[i])\n",
    "                \n",
    "#         return self.s,self.x   \n",
    "        \n",
    "#     def backward_pass(self,target):\n",
    "\n",
    "#         self.dl_dx[self.l] = dloss(self.x[self.l] , target)\n",
    "#         self.dl_ds[self.l] = torch.mul(dl_dx[self.l],dsigma(s[self.l]) )\n",
    "        \n",
    "#         torch.mul( dl_dx2 , dsigma(s2) )\n",
    "        \n",
    "#         for i in range(self.l-1,0,-1):  # it goes from l-1 to 1\n",
    "        \n",
    "#             #print(\"dl_dx2-->size = \" , (dloss(x2,t)).shape)\n",
    "#             #print('x2--->size' ,  x2.shape )\n",
    "#             #print('x2 = ' ,x2)\n",
    "#             dl_dx[i] = dloss(x[-1],t)\n",
    "    \n",
    "\n",
    "    \n",
    "#             #print(\"dl_dx1-->size = \" , (w2.t()).shape,' * ',dl_ds2.shape)\n",
    "#             dl_dx[i] = torch.mm(w[i+1].t(),dl_ds[i+1])\n",
    "    \n",
    "#             #print(\"dl_ds1-->size = \" , dl_dx1.shape,' .* ',dsigma(s1).shape)\n",
    "#             dl_ds[i] = torch.mul(dl_dx[i] ,dsigma(s[i]) )\n",
    "    \n",
    "#             #print(\"dl_dw1-->size = \" , dl_ds1.view(-1,1).shape,' * ',(x0.view(1,-1).shape))\n",
    "    \n",
    "    \n",
    "    \n",
    "    \n",
    "    \n",
    "#             dl_dw[i] = torch.mm(dl_ds1.view(-1,1),x0.view(1,-1))\n",
    "#             dl_dw2 = dl_ds2.view(-1,1).mm(x1.view(1,-1))\n",
    "    \n",
    "    \n",
    "#             dl_db1=dl_ds1;\n",
    "#             dl_db2=dl_ds2;\n",
    "    \n",
    "#             #print(dl_dw1.shape,dl_dw2.shape,dl_db1.shape,dl_db2.shape)\n",
    "#             #print(\"(dl_dw1,dl_dw2,dl_db1,dl_db2)\")\n",
    "#         return self.dl_dw,self.dl_db\n",
    "    \n",
    "        \n",
    "        \n",
    "        \n",
    "        \n",
    "    \n",
    "     \n",
    "#        return self\n",
    "\n",
    "\n",
    "# net = EEGNet()#.cuda(0)\n",
    "# print (net.forward(Variable(torch.Tensor(np.random.rand(1, 1, 120, 64)))))\n",
    "# criterion = nn.BCELoss()\n",
    "# optimizer = optim.Adam(net.parameters())"
   ]
  },
  {
   "cell_type": "code",
   "execution_count": 425,
   "metadata": {
    "scrolled": false
   },
   "outputs": [],
   "source": [
    "model = sequential(linear(3,2),Tanh(),linear(5,3))"
   ]
  },
  {
   "cell_type": "code",
   "execution_count": 426,
   "metadata": {
    "scrolled": false
   },
   "outputs": [
    {
     "data": {
      "text/plain": [
       "\n",
       "-1.7598\n",
       "-0.2378\n",
       "[torch.FloatTensor of size 2x1]"
      ]
     },
     "execution_count": 426,
     "metadata": {},
     "output_type": "execute_result"
    }
   ],
   "source": [
    "x = torch.Tensor(2,1).normal_()\n",
    "x"
   ]
  },
  {
   "cell_type": "code",
   "execution_count": 427,
   "metadata": {},
   "outputs": [
    {
     "data": {
      "text/plain": [
       "[\n",
       " -1.7598\n",
       " -0.2378\n",
       " [torch.FloatTensor of size 2x1], \n",
       "  4.2575\n",
       " -2.9671\n",
       "  1.6491\n",
       " [torch.FloatTensor of size 3x1], \n",
       "  0.9996\n",
       " -0.9947\n",
       "  0.9287\n",
       " [torch.FloatTensor of size 3x1], \n",
       " -0.0439\n",
       " -1.2658\n",
       " -1.1588\n",
       "  2.5660\n",
       " -4.3117\n",
       " [torch.FloatTensor of size 5x1]]"
      ]
     },
     "execution_count": 427,
     "metadata": {},
     "output_type": "execute_result"
    }
   ],
   "source": [
    "model.forward(x)"
   ]
  },
  {
   "cell_type": "code",
   "execution_count": 29,
   "metadata": {},
   "outputs": [
    {
     "name": "stdout",
     "output_type": "stream",
     "text": [
      "[\n",
      " 0  0\n",
      " 0  0\n",
      " 0  0\n",
      " 0  0\n",
      "[torch.FloatTensor of size 4x2]\n",
      ", \n",
      " 0  0  0  0\n",
      "[torch.FloatTensor of size 1x4]\n",
      ", \n",
      " 1.1711  0.4335 -1.7343\n",
      "-1.3360  0.8871  0.7680\n",
      " 0.0571  0.2240  0.5520\n",
      "[torch.FloatTensor of size 3x3]\n",
      "]\n"
     ]
    },
    {
     "data": {
      "text/plain": [
       "\n",
       " 1.1711  0.4335 -1.7343\n",
       "-1.3360  0.8871  0.7680\n",
       " 0.0571  0.2240  0.5520\n",
       "[torch.FloatTensor of size 3x3]"
      ]
     },
     "execution_count": 29,
     "metadata": {},
     "output_type": "execute_result"
    }
   ],
   "source": [
    "weight = [w1,w2]\n",
    "weight.append(w3)\n",
    "print(weight)\n",
    "weight[2]"
   ]
  },
  {
   "cell_type": "code",
   "execution_count": 190,
   "metadata": {},
   "outputs": [
    {
     "ename": "RuntimeError",
     "evalue": "inconsistent tensor size, expected r_ [3 x 4], t [3 x 4] and src [4 x 1] to have the same number of elements, but got 12, 12 and 4 elements respectively at /opt/conda/conda-bld/pytorch_1518244421288/work/torch/lib/TH/generic/THTensorMath.c:1036",
     "output_type": "error",
     "traceback": [
      "\u001b[0;31m---------------------------------------------------------------------------\u001b[0m",
      "\u001b[0;31mRuntimeError\u001b[0m                              Traceback (most recent call last)",
      "\u001b[0;32m<ipython-input-190-71f124f03ac8>\u001b[0m in \u001b[0;36m<module>\u001b[0;34m()\u001b[0m\n\u001b[1;32m      2\u001b[0m \u001b[0mw2\u001b[0m \u001b[0;34m=\u001b[0m \u001b[0mtorch\u001b[0m\u001b[0;34m.\u001b[0m\u001b[0mTensor\u001b[0m\u001b[0;34m(\u001b[0m\u001b[0;36m4\u001b[0m\u001b[0;34m,\u001b[0m\u001b[0;36m1\u001b[0m\u001b[0;34m)\u001b[0m\u001b[0;34m\u001b[0m\u001b[0m\n\u001b[1;32m      3\u001b[0m \u001b[0mtorch\u001b[0m\u001b[0;34m.\u001b[0m\u001b[0mmm\u001b[0m\u001b[0;34m(\u001b[0m\u001b[0mw1\u001b[0m\u001b[0;34m,\u001b[0m\u001b[0mw2\u001b[0m\u001b[0;34m)\u001b[0m\u001b[0;34m\u001b[0m\u001b[0m\n\u001b[0;32m----> 4\u001b[0;31m \u001b[0mw1\u001b[0m\u001b[0;34m*\u001b[0m\u001b[0mw2\u001b[0m\u001b[0;34m\u001b[0m\u001b[0m\n\u001b[0m",
      "\u001b[0;32m~/anaconda3/lib/python3.6/site-packages/torch/tensor.py\u001b[0m in \u001b[0;36m__mul__\u001b[0;34m(self, other)\u001b[0m\n\u001b[1;32m    319\u001b[0m \u001b[0;34m\u001b[0m\u001b[0m\n\u001b[1;32m    320\u001b[0m     \u001b[0;32mdef\u001b[0m \u001b[0m__mul__\u001b[0m\u001b[0;34m(\u001b[0m\u001b[0mself\u001b[0m\u001b[0;34m,\u001b[0m \u001b[0mother\u001b[0m\u001b[0;34m)\u001b[0m\u001b[0;34m:\u001b[0m\u001b[0;34m\u001b[0m\u001b[0m\n\u001b[0;32m--> 321\u001b[0;31m         \u001b[0;32mreturn\u001b[0m \u001b[0mself\u001b[0m\u001b[0;34m.\u001b[0m\u001b[0mmul\u001b[0m\u001b[0;34m(\u001b[0m\u001b[0mother\u001b[0m\u001b[0;34m)\u001b[0m\u001b[0;34m\u001b[0m\u001b[0m\n\u001b[0m\u001b[1;32m    322\u001b[0m     \u001b[0m__rmul__\u001b[0m \u001b[0;34m=\u001b[0m \u001b[0m__mul__\u001b[0m\u001b[0;34m\u001b[0m\u001b[0m\n\u001b[1;32m    323\u001b[0m \u001b[0;34m\u001b[0m\u001b[0m\n",
      "\u001b[0;31mRuntimeError\u001b[0m: inconsistent tensor size, expected r_ [3 x 4], t [3 x 4] and src [4 x 1] to have the same number of elements, but got 12, 12 and 4 elements respectively at /opt/conda/conda-bld/pytorch_1518244421288/work/torch/lib/TH/generic/THTensorMath.c:1036"
     ]
    }
   ],
   "source": [
    "w1 =  torch.Tensor(3,4)\n",
    "w2 = torch.Tensor(4,1)\n",
    "torch.mm(w1,w2)\n",
    "w1*w2"
   ]
  },
  {
   "cell_type": "code",
   "execution_count": 30,
   "metadata": {},
   "outputs": [],
   "source": [
    "def generate_disc_set(nb):\n",
    "    input_data = torch.Tensor(nb, 2).uniform_(-0.5,0.5)\n",
    "    target = input_data.pow(2).sum(1).sub(1 /(2* math.pi)).sign().mul(-1).add(1).div(2).long()\n",
    "    return input_data, target"
   ]
  },
  {
   "cell_type": "code",
   "execution_count": null,
   "metadata": {},
   "outputs": [],
   "source": []
  },
  {
   "cell_type": "code",
   "execution_count": 31,
   "metadata": {},
   "outputs": [],
   "source": [
    "a,b=generate_disc_set(17)"
   ]
  },
  {
   "cell_type": "code",
   "execution_count": 32,
   "metadata": {},
   "outputs": [
    {
     "name": "stdout",
     "output_type": "stream",
     "text": [
      "\n",
      " 0.3119 -0.3913\n",
      "-0.1057 -0.2027\n",
      "-0.0963 -0.0982\n",
      "-0.4487 -0.4317\n",
      "-0.0782  0.0065\n",
      "-0.2271  0.1883\n",
      "-0.4500 -0.0337\n",
      " 0.4397 -0.2039\n",
      " 0.4515  0.1811\n",
      "-0.4512  0.3163\n",
      "-0.0577 -0.2232\n",
      " 0.3998 -0.4040\n",
      " 0.0537 -0.1047\n",
      " 0.3571  0.1396\n",
      " 0.2403  0.1766\n",
      "-0.1202 -0.1052\n",
      "-0.4120  0.2709\n",
      "[torch.FloatTensor of size 17x2]\n",
      " \n",
      " 0\n",
      " 1\n",
      " 1\n",
      " 0\n",
      " 1\n",
      " 1\n",
      " 0\n",
      " 0\n",
      " 0\n",
      " 0\n",
      " 1\n",
      " 0\n",
      " 1\n",
      " 1\n",
      " 1\n",
      " 1\n",
      " 0\n",
      "[torch.LongTensor of size 17]\n",
      "\n"
     ]
    }
   ],
   "source": [
    "print(a,b)"
   ]
  },
  {
   "cell_type": "code",
   "execution_count": null,
   "metadata": {},
   "outputs": [],
   "source": []
  },
  {
   "cell_type": "code",
   "execution_count": 502,
   "metadata": {},
   "outputs": [
    {
     "data": {
      "text/plain": [
       "[7, 3, 1]"
      ]
     },
     "execution_count": 502,
     "metadata": {},
     "output_type": "execute_result"
    }
   ],
   "source": [
    "luk"
   ]
  },
  {
   "cell_type": "code",
   "execution_count": null,
   "metadata": {},
   "outputs": [],
   "source": []
  },
  {
   "cell_type": "code",
   "execution_count": 503,
   "metadata": {},
   "outputs": [
    {
     "name": "stdout",
     "output_type": "stream",
     "text": [
      "5\n"
     ]
    }
   ],
   "source": [
    "ops = [linear(4,2),linear(7,4),Relu(),linear(9,7),linear(1,9)]\n",
    "print(len(ops))"
   ]
  },
  {
   "cell_type": "code",
   "execution_count": 504,
   "metadata": {},
   "outputs": [],
   "source": [
    "# x = ops\n",
    "# que=[]\n",
    "# l=len(ops)\n",
    "# for i in range(l):\n",
    "#     que.append(ops[i])\n",
    "#     if(i<l-1):\n",
    "#         if(type(ops[i]).__name__=='linear' and type(ops[i+1]).__name__=='linear'):\n",
    "#             que.append(\"identity\")\n",
    "        \n",
    "# if (type(ops[-1]).__name__=='linear'):\n",
    "#     que.append(\"identity\")"
   ]
  },
  {
   "cell_type": "code",
   "execution_count": 505,
   "metadata": {},
   "outputs": [],
   "source": [
    "# que"
   ]
  },
  {
   "cell_type": "code",
   "execution_count": 506,
   "metadata": {},
   "outputs": [],
   "source": [
    "def structrize(operations):\n",
    "    que=[]\n",
    "    l=len(operations)\n",
    "    print(l)\n",
    "    for i in range(l):\n",
    "        que.append(operations[i])\n",
    "        if(i<l-1):\n",
    "            if(type(operations[i]).__name__=='linear' and type(operations[i+1]).__name__=='linear'):\n",
    "                que.append(Identity())\n",
    "        \n",
    "    if (type(operations[-1]).__name__=='linear'):\n",
    "        que.append(Identity)\n",
    "        \n",
    "    return que\n"
   ]
  },
  {
   "cell_type": "code",
   "execution_count": 507,
   "metadata": {},
   "outputs": [
    {
     "name": "stdout",
     "output_type": "stream",
     "text": [
      "5\n"
     ]
    }
   ],
   "source": [
    "a = structrize(ops)"
   ]
  },
  {
   "cell_type": "code",
   "execution_count": 508,
   "metadata": {},
   "outputs": [
    {
     "name": "stdout",
     "output_type": "stream",
     "text": [
      "[<__main__.linear object at 0x7f42e0771278>, <__main__.Identity object at 0x7f42e06ea438>, <__main__.linear object at 0x7f42e0771320>, <__main__.Relu object at 0x7f42e0771978>, <__main__.linear object at 0x7f42e0771048>, <__main__.Identity object at 0x7f42e06ea4e0>, <__main__.linear object at 0x7f42e0771898>, <class '__main__.Identity'>]\n"
     ]
    }
   ],
   "source": [
    "print(a)"
   ]
  },
  {
   "cell_type": "code",
   "execution_count": null,
   "metadata": {},
   "outputs": [],
   "source": []
  }
 ],
 "metadata": {
  "kernelspec": {
   "display_name": "Python 3",
   "language": "python",
   "name": "python3"
  },
  "language_info": {
   "codemirror_mode": {
    "name": "ipython",
    "version": 3
   },
   "file_extension": ".py",
   "mimetype": "text/x-python",
   "name": "python",
   "nbconvert_exporter": "python",
   "pygments_lexer": "ipython3",
   "version": "3.6.4"
  }
 },
 "nbformat": 4,
 "nbformat_minor": 2
}
